{
 "cells": [
  {
   "cell_type": "code",
   "execution_count": 1,
   "metadata": {},
   "outputs": [
    {
     "name": "stderr",
     "output_type": "stream",
     "text": [
      "Using TensorFlow backend.\n"
     ]
    }
   ],
   "source": [
    "import base64\n",
    "import dash\n",
    "import dash_bootstrap_components as dbc\n",
    "from dash.dependencies import Input, Output, State\n",
    "from dash import html as html\n",
    "from dash import dcc\n",
    "import cv2                \n",
    "import matplotlib.pyplot as plt                        \n",
    "import os\n",
    "import numpy as np\n",
    "from keras.layers import Conv2D, MaxPooling2D, GlobalAveragePooling2D\n",
    "from keras.layers import Dropout, Flatten, Dense\n",
    "from keras.models import Sequential\n",
    "from keras.layers.normalization import BatchNormalization\n",
    "import tensorflow as tf\n",
    "from extract_bottleneck_features import *"
   ]
  },
  {
   "cell_type": "code",
   "execution_count": 2,
   "metadata": {},
   "outputs": [],
   "source": [
    "# extract pre-trained face detector\n",
    "face_cascade = cv2.CascadeClassifier('./haarcascades/haarcascade_frontalface_alt.xml')"
   ]
  },
  {
   "cell_type": "code",
   "execution_count": 3,
   "metadata": {},
   "outputs": [],
   "source": [
    "dog_names=['Affenpinscher', 'Afghan hound', 'Airedale terrier', 'Akita', 'Alaskan malamute', 'American eskimo dog', 'American foxhound', 'American staffordshire terrier', 'American water spaniel', 'Anatolian shepherd dog', 'Australian cattle dog', 'Australian shepherd', 'Australian terrier', 'Basenji', 'Basset hound', 'Beagle', 'Bearded collie', 'Beauceron', 'Bedlington terrier', 'Belgian malinois', 'Belgian sheepdog', 'Belgian tervuren', 'Bernese mountain dog', 'Bichon frise', 'Black and tan coonhound', 'Black russian terrier', 'Bloodhound', 'Bluetick coonhound', 'Border collie', 'Border terrier', 'Borzoi', 'Boston terrier', 'Bouvier des flandres', 'Boxer', 'Boykin spaniel', 'Briard', 'Brittany', 'Brussels griffon', 'Bull terrier', 'Bulldog', 'Bullmastiff', 'Cairn terrier', 'Canaan dog', 'Cane corso', 'Cardigan welsh corgi', 'Cavalier king charles spaniel', 'Chesapeake bay retriever', 'Chihuahua', 'Chinese crested', 'Chinese shar-pei', 'Chow chow', 'Clumber spaniel', 'Cocker spaniel', 'Collie', 'Curly-coated retriever', 'Dachshund', 'Dalmatian', 'Dandie dinmont terrier', 'Doberman pinscher', 'Dogue de bordeaux', 'English cocker spaniel', 'English setter', 'English springer spaniel', 'English toy spaniel', 'Entlebucher mountain dog', 'Field spaniel', 'Finnish spitz', 'Flat-coated retriever', 'French bulldog', 'German pinscher', 'German shepherd dog', 'German shorthaired pointer', 'German wirehaired pointer', 'Giant schnauzer', 'Glen of imaal terrier', 'Golden retriever', 'Gordon setter', 'Great dane', 'Great pyrenees', 'Greater swiss mountain dog', 'Greyhound', 'Havanese', 'Ibizan hound', 'Icelandic sheepdog', 'Irish red and white setter', 'Irish setter', 'Irish terrier', 'Irish water spaniel', 'Irish wolfhound', 'Italian greyhound', 'Japanese chin', 'Keeshond', 'Kerry blue terrier', 'Komondor', 'Kuvasz', 'Labrador retriever', 'Lakeland terrier', 'Leonberger', 'Lhasa apso', 'Lowchen', 'Maltese', 'Manchester terrier', 'Mastiff', 'Miniature schnauzer', 'Neapolitan mastiff', 'Newfoundland', 'Norfolk terrier', 'Norwegian buhund', 'Norwegian elkhound', 'Norwegian lundehund', 'Norwich terrier', 'Nova scotia duck tolling retriever', 'Old english sheepdog', 'Otterhound', 'Papillon', 'Parson russell terrier', 'Pekingese', 'Pembroke welsh corgi', 'Petit basset griffon vendeen', 'Pharaoh hound', 'Plott', 'Pointer', 'Pomeranian', 'Poodle', 'Portuguese water dog', 'Saint bernard', 'Silky terrier', 'Smooth fox terrier', 'Tibetan mastiff', 'Welsh springer spaniel', 'Wirehaired pointing griffon', 'Xoloitzcuintli', 'Yorkshire terrier']"
   ]
  },
  {
   "cell_type": "code",
   "execution_count": 4,
   "metadata": {},
   "outputs": [],
   "source": [
    "# returns \"True\" if face is detected in image stored at img_path\n",
    "def face_detector(img_path):\n",
    "    img = cv2.imread(img_path)\n",
    "    gray = cv2.cvtColor(img, cv2.COLOR_BGR2GRAY)\n",
    "    faces = face_cascade.detectMultiScale(gray)\n",
    "    return len(faces) > 0"
   ]
  },
  {
   "cell_type": "code",
   "execution_count": 5,
   "metadata": {},
   "outputs": [
    {
     "name": "stderr",
     "output_type": "stream",
     "text": [
      "WARNING: Logging before flag parsing goes to stderr.\n",
      "W0305 11:25:18.857692  3752 module_wrapper.py:139] From C:\\Users\\toptech\\.julia\\conda\\3\\lib\\site-packages\\keras\\backend\\tensorflow_backend.py:68: The name tf.get_default_graph is deprecated. Please use tf.compat.v1.get_default_graph instead.\n",
      "\n",
      "W0305 11:25:18.857692  3752 module_wrapper.py:139] From C:\\Users\\toptech\\.julia\\conda\\3\\lib\\site-packages\\keras\\backend\\tensorflow_backend.py:508: The name tf.placeholder is deprecated. Please use tf.compat.v1.placeholder instead.\n",
      "\n",
      "W0305 11:25:18.877860  3752 module_wrapper.py:139] From C:\\Users\\toptech\\.julia\\conda\\3\\lib\\site-packages\\keras\\backend\\tensorflow_backend.py:3837: The name tf.random_uniform is deprecated. Please use tf.random.uniform instead.\n",
      "\n",
      "W0305 11:25:18.939687  3752 module_wrapper.py:139] From C:\\Users\\toptech\\.julia\\conda\\3\\lib\\site-packages\\keras\\backend\\tensorflow_backend.py:168: The name tf.get_default_session is deprecated. Please use tf.compat.v1.get_default_session instead.\n",
      "\n",
      "W0305 11:25:18.941683  3752 module_wrapper.py:139] From C:\\Users\\toptech\\.julia\\conda\\3\\lib\\site-packages\\keras\\backend\\tensorflow_backend.py:175: The name tf.ConfigProto is deprecated. Please use tf.compat.v1.ConfigProto instead.\n",
      "\n",
      "W0305 11:25:18.943683  3752 module_wrapper.py:139] From C:\\Users\\toptech\\.julia\\conda\\3\\lib\\site-packages\\keras\\backend\\tensorflow_backend.py:180: The name tf.Session is deprecated. Please use tf.compat.v1.Session instead.\n",
      "\n",
      "W0305 11:25:19.757465  3752 module_wrapper.py:139] From C:\\Users\\toptech\\.julia\\conda\\3\\lib\\site-packages\\keras\\backend\\tensorflow_backend.py:184: The name tf.global_variables is deprecated. Please use tf.compat.v1.global_variables instead.\n",
      "\n",
      "W0305 11:25:19.757465  3752 module_wrapper.py:139] From C:\\Users\\toptech\\.julia\\conda\\3\\lib\\site-packages\\keras\\backend\\tensorflow_backend.py:193: The name tf.is_variable_initialized is deprecated. Please use tf.compat.v1.is_variable_initialized instead.\n",
      "\n",
      "W0305 11:25:19.779997  3752 module_wrapper.py:139] From C:\\Users\\toptech\\.julia\\conda\\3\\lib\\site-packages\\keras\\backend\\tensorflow_backend.py:200: The name tf.variables_initializer is deprecated. Please use tf.compat.v1.variables_initializer instead.\n",
      "\n",
      "W0305 11:25:19.811438  3752 module_wrapper.py:139] From C:\\Users\\toptech\\.julia\\conda\\3\\lib\\site-packages\\keras\\backend\\tensorflow_backend.py:1801: The name tf.nn.fused_batch_norm is deprecated. Please use tf.compat.v1.nn.fused_batch_norm instead.\n",
      "\n",
      "W0305 11:25:19.891889  3752 module_wrapper.py:139] From C:\\Users\\toptech\\.julia\\conda\\3\\lib\\site-packages\\keras\\backend\\tensorflow_backend.py:127: The name tf.placeholder_with_default is deprecated. Please use tf.compat.v1.placeholder_with_default instead.\n",
      "\n",
      "W0305 11:25:19.925713  3752 module_wrapper.py:139] From C:\\Users\\toptech\\.julia\\conda\\3\\lib\\site-packages\\keras\\backend\\tensorflow_backend.py:3661: The name tf.nn.max_pool is deprecated. Please use tf.nn.max_pool2d instead.\n",
      "\n",
      "W0305 11:25:25.585816  3752 module_wrapper.py:139] From C:\\Users\\toptech\\.julia\\conda\\3\\lib\\site-packages\\keras\\backend\\tensorflow_backend.py:3665: The name tf.nn.avg_pool is deprecated. Please use tf.nn.avg_pool2d instead.\n",
      "\n"
     ]
    }
   ],
   "source": [
    "from keras.applications.resnet50 import ResNet50\n",
    "\n",
    "# define ResNet50 model\n",
    "ResNet50_model = ResNet50(weights='imagenet')"
   ]
  },
  {
   "cell_type": "code",
   "execution_count": 6,
   "metadata": {},
   "outputs": [],
   "source": [
    "from keras.preprocessing import image                  \n",
    "from tqdm import tqdm\n",
    "\n",
    "def path_to_tensor(img_path):\n",
    "    # loads RGB image as PIL.Image.Image type\n",
    "    img = image.load_img(img_path, target_size=(224, 224))\n",
    "    # convert PIL.Image.Image type to 3D tensor with shape (224, 224, 3)\n",
    "    x = image.img_to_array(img)\n",
    "    # convert 3D tensor to 4D tensor with shape (1, 224, 224, 3) and return 4D tensor\n",
    "    return np.expand_dims(x, axis=0)\n",
    "\n",
    "def paths_to_tensor(img_paths):\n",
    "    list_of_tensors = [path_to_tensor(img_path) for img_path in tqdm(img_paths)]\n",
    "    return np.vstack(list_of_tensors)"
   ]
  },
  {
   "cell_type": "code",
   "execution_count": 7,
   "metadata": {},
   "outputs": [],
   "source": [
    "from keras.applications.resnet50 import preprocess_input, decode_predictions\n",
    "\n",
    "def ResNet50_predict_labels(img_path):\n",
    "    # returns prediction vector for image located at img_path\n",
    "    img = preprocess_input(path_to_tensor(img_path))\n",
    "    global graph\n",
    "    with graph.as_default():\n",
    "        y=np.argmax(ResNet50_model.predict(img))\n",
    "    return y"
   ]
  },
  {
   "cell_type": "code",
   "execution_count": 8,
   "metadata": {},
   "outputs": [],
   "source": [
    "### returns \"True\" if a dog is detected in the image stored at img_path\n",
    "def dog_detector(img_path):\n",
    "    prediction = ResNet50_predict_labels(img_path)\n",
    "    return ((prediction <= 268) & (prediction >= 151)) "
   ]
  },
  {
   "cell_type": "code",
   "execution_count": 9,
   "metadata": {},
   "outputs": [],
   "source": [
    "### TODO: Obtain bottleneck features from another pre-trained CNN.\n",
    "\n",
    "bottleneck_features = np.load('./bottleneck_features/DogResnet50Data.npz')\n",
    "train_Resnet50 = bottleneck_features['train']\n",
    "valid_Resnet50 = bottleneck_features['valid']\n",
    "test_Resnet50 = bottleneck_features['test']"
   ]
  },
  {
   "cell_type": "code",
   "execution_count": 10,
   "metadata": {},
   "outputs": [
    {
     "name": "stderr",
     "output_type": "stream",
     "text": [
      "W0305 11:25:32.298829  3752 deprecation.py:506] From C:\\Users\\toptech\\.julia\\conda\\3\\lib\\site-packages\\keras\\backend\\tensorflow_backend.py:3144: calling dropout (from tensorflow.python.ops.nn_ops) with keep_prob is deprecated and will be removed in a future version.\n",
      "Instructions for updating:\n",
      "Please use `rate` instead of `keep_prob`. Rate should be set to `rate = 1 - keep_prob`.\n"
     ]
    },
    {
     "name": "stdout",
     "output_type": "stream",
     "text": [
      "_________________________________________________________________\n",
      "Layer (type)                 Output Shape              Param #   \n",
      "=================================================================\n",
      "global_average_pooling2d_1 ( (None, 2048)              0         \n",
      "_________________________________________________________________\n",
      "dense_1 (Dense)              (None, 1024)              2098176   \n",
      "_________________________________________________________________\n",
      "dropout_1 (Dropout)          (None, 1024)              0         \n",
      "_________________________________________________________________\n",
      "dense_2 (Dense)              (None, 133)               136325    \n",
      "=================================================================\n",
      "Total params: 2,234,501\n",
      "Trainable params: 2,234,501\n",
      "Non-trainable params: 0\n",
      "_________________________________________________________________\n"
     ]
    }
   ],
   "source": [
    "### TODO: Define your architecture.\n",
    "\n",
    "Resnet50_model = Sequential()\n",
    "Resnet50_model.add(GlobalAveragePooling2D(input_shape=train_Resnet50.shape[1:]))\n",
    "Resnet50_model.add(Dense(1024, activation='relu'))\n",
    "Resnet50_model.add(Dropout(0.2))\n",
    "Resnet50_model.add(Dense(133, activation='softmax'))\n",
    "\n",
    "Resnet50_model.summary()"
   ]
  },
  {
   "cell_type": "code",
   "execution_count": 11,
   "metadata": {},
   "outputs": [
    {
     "name": "stderr",
     "output_type": "stream",
     "text": [
      "W0305 11:25:32.399023  3752 module_wrapper.py:139] From C:\\Users\\toptech\\.julia\\conda\\3\\lib\\site-packages\\keras\\optimizers.py:757: The name tf.train.Optimizer is deprecated. Please use tf.compat.v1.train.Optimizer instead.\n",
      "\n",
      "W0305 11:25:32.433048  3752 module_wrapper.py:139] From C:\\Users\\toptech\\.julia\\conda\\3\\lib\\site-packages\\keras\\backend\\tensorflow_backend.py:3014: The name tf.log is deprecated. Please use tf.math.log instead.\n",
      "\n"
     ]
    }
   ],
   "source": [
    "### TODO: Compile the model.\n",
    "\n",
    "Resnet50_model.compile(loss='categorical_crossentropy', optimizer='SGD', metrics=['accuracy'])"
   ]
  },
  {
   "cell_type": "code",
   "execution_count": 12,
   "metadata": {},
   "outputs": [],
   "source": [
    "### TODO: Load the model weights with the best validation loss.\n",
    "\n",
    "Resnet50_model.load_weights('./saved_models/weights.best.Resnet50.hdf5')\n",
    "graph = tf.get_default_graph()"
   ]
  },
  {
   "cell_type": "code",
   "execution_count": 13,
   "metadata": {},
   "outputs": [],
   "source": [
    "### TODO: Write a function that takes a path to an image as input\n",
    "### and returns the dog breed that is predicted by the model.\n",
    "\n",
    "def Resnet50_predict_breed(img_path):\n",
    "    # extract bottleneck features\n",
    "    global graph\n",
    "    with graph.as_default():\n",
    "    # obtain predicted vector\n",
    "        bottleneck_feature = extract_Resnet50(path_to_tensor(img_path))\n",
    "        predicted_vector = Resnet50_model.predict(bottleneck_feature)\n",
    "    # return dog breed that is predicted by the model\n",
    "    return dog_names[np.argmax(predicted_vector)]"
   ]
  },
  {
   "cell_type": "code",
   "execution_count": 14,
   "metadata": {},
   "outputs": [],
   "source": [
    "### TODO: Write your algorithm.\n",
    "### Feel free to use as many code cells as needed.\n",
    "\n",
    "def Dog_Identification(img_path):\n",
    "    #Input: Path for an image to be classified\n",
    "    #Output: Classification result which is either:\n",
    "    #        - Dog breed for a detected dog\n",
    "    #        - Resembling dog breed for a detected human \n",
    "    #        - Error in case neither dog nor human detected\n",
    "\n",
    "    if dog_detector(img_path):\n",
    "        dog_breed=Resnet50_predict_breed(img_path)\n",
    "        img = cv2.imread(img_path)\n",
    "        img_rgb = cv2.cvtColor(img, cv2.COLOR_BGR2RGB)\n",
    "        return 'This seems to be a dog, Its predicted breed is ... '+ dog_breed\n",
    "    elif face_detector(img_path):\n",
    "        dog_breed=Resnet50_predict_breed(img_path)\n",
    "        dog_breed=dog_breed.split('.')[-1]\n",
    "        img = cv2.imread(img_path)\n",
    "        img_rgb = cv2.cvtColor(img, cv2.COLOR_BGR2RGB)\n",
    "        return 'This seems to be a human, The resembling dog breed is ... '+ dog_breed\n",
    "    else :\n",
    "        return 'Error! This does not look like a human or dog. Please try another image.'"
   ]
  },
  {
   "cell_type": "markdown",
   "metadata": {},
   "source": [
    "## Dash Web App"
   ]
  },
  {
   "cell_type": "code",
   "execution_count": 15,
   "metadata": {},
   "outputs": [],
   "source": [
    "FA = \"https://use.fontawesome.com/releases/v5.8.1/css/all.css\"\n",
    "\n",
    "## Set the path of the 'assets' directory\n",
    "assets='./Dash/assets'\n",
    "\n",
    "external_stylesheets = [assets+'/'+'bWLwgP.css']\n",
    "external_stylesheets = [dbc.themes.BOOTSTRAP, FA]\n",
    "\n",
    "\n",
    "app = dash.Dash(__name__,\n",
    "                title='Dog Breed Identification App',\n",
    "                assets_folder=assets,assets_url_path=assets,\n",
    "                external_stylesheets=external_stylesheets,\n",
    "                meta_tags = [{\"name\": \"viewport\", \"content\": \"width=device-width, height=device-height, initial-scale=1.0\"}],\n",
    "                suppress_callback_exceptions=True)\n",
    "\n",
    "\n",
    "CONTENT_STYLE = {\n",
    "    \"margin-left\": \"10rem\",\n",
    "    \"margin-right\": \"10rem\",\n",
    "    \"padding\": \"2rem 1rem\",\n",
    "}\n",
    "\n",
    "navbar = dbc.Navbar(\n",
    "    [\n",
    "        html.A(\n",
    "\n",
    "            dbc.Row(\n",
    "                [\n",
    "        \n",
    "                    dbc.Col(dbc.NavbarBrand(\"Dog Breed Identification App\", className=\"ml-2\",style={'color': '#FFFFFF','font-size': '30px',\"margin-left\": \"0px\"})),\n",
    "                ],\n",
    "                align=\"left\",\n",
    "\n",
    "            ),\n",
    "            href=\"/\"\n",
    "        ),\n",
    "        html.A(\n",
    "\n",
    "            dbc.Row(\n",
    "                [\n",
    "                    dbc.Col(html.H3(id='Page-Nav-Title',children=' ', className='ml-4',style={'color': '#00d4ff','font-size': '20px', 'margin-left':'50px', 'width':'200px'})),\n",
    "                ],\n",
    "                align=\"center\",\n",
    "\n",
    "            ),\n",
    "\n",
    "        ),\n",
    "            ],\n",
    "    color=\"#353535\",\n",
    "    dark=True,\n",
    ")\n",
    "\n",
    "\n",
    "content = html.Div(id=\"page-content\", style=CONTENT_STYLE)"
   ]
  },
  {
   "cell_type": "markdown",
   "metadata": {},
   "source": [
    "## Home Page"
   ]
  },
  {
   "cell_type": "code",
   "execution_count": 16,
   "metadata": {},
   "outputs": [],
   "source": [
    "############################# Page01 ####################################\n",
    "UPLOAD_DIRECTORY = \"./temp\"\n",
    "\n",
    "if not os.path.exists(UPLOAD_DIRECTORY):\n",
    "    os.makedirs(UPLOAD_DIRECTORY)\n",
    "\n",
    "page0 = html.Div(style={'backgroundColor':'#f4f4f2'},\n",
    "    children=[\n",
    "    html.Div([\n",
    "        html.Div(\n",
    "            id=\"header\",\n",
    "            children=[\n",
    "            html.H5(children='Please select the image to be processed',style={'margin-left':'10px', 'margin-top':'10px'}),\n",
    "        ],style={'display': 'inline-block'}\n",
    "        ),\n",
    "\n",
    "    ]),\n",
    "\n",
    "         html.Div([\n",
    "            dcc.Upload(\n",
    "                id='upload-image',\n",
    "                children=html.Div([\n",
    "                    'Drag and Drop or ',\n",
    "                    html.A('Select Image')\n",
    "                ]),\n",
    "                style={'align': 'center',\n",
    "                    'width': '90%',\n",
    "                    'height': '50px',\n",
    "                    'lineHeight': '60px',\n",
    "                    'borderWidth': '1px',\n",
    "                    'borderStyle': 'dashed',\n",
    "                    'borderRadius': '5px',\n",
    "                    'textAlign': 'center',\n",
    "                    'margin': '10px', 'margin-top':'20px','font-size': '15px', \"font-weight\": \"bold\", 'margin-left':'60px'\n",
    "                },\n",
    "                # Allow multiple files to be uploaded\n",
    "                multiple=True\n",
    "        )]),html.Div([\n",
    "\n",
    "            dbc.Button(\n",
    "            \"Detect\", id=\"process-button\", className=\"d-grid col-2 mx-auto\", color=\"secondary\",\n",
    "            style={'text-align': 'center','margin-top':'20px','margin-bottom':'20px','font-size': '20px', \"font-weight\": \"bold\", 'inline-block': 'block',\"allign\": \"left\"})]\n",
    "             \n",
    "         ),\n",
    "        \n",
    "        html.Div(children=html.Div(id='original-image',style={\"width\": \"80%\", \"display\": \"inline-block\", \"padding\": \"0 0\"})),\n",
    "        html.H5(id='result',style={'margin-left':'10px', 'margin-top':'20px'}),\n",
    "\n",
    "    ])\n",
    "\n",
    "\n",
    "def save_file(name, content):\n",
    "    \"\"\"Decode and store a file uploaded with Plotly Dash.\"\"\"\n",
    "    data = content.encode(\"utf8\").split(b\";base64,\")[1]\n",
    "    with open(os.path.join(UPLOAD_DIRECTORY, name), \"wb\") as fp:\n",
    "        fp.write(base64.decodebytes(data))\n",
    "        return UPLOAD_DIRECTORY+'/'+name\n",
    "     \n",
    "@app.callback(\n",
    "    [Output(\"original-image\", \"children\"),Output(\"result\", \"children\"), Output(\"process-button\", \"n_clicks\")],\n",
    "    [Input(\"upload-image\", \"filename\"), Input(\"upload-image\", \"contents\"), Input(\"process-button\", \"n_clicks\")],\n",
    ")\n",
    "\n",
    "def update_output(uploaded_filename, uploaded_file_content, n_clicks):\n",
    "    \"\"\"Save uploaded files and regenerate the file list.\"\"\"\n",
    "    \n",
    "    if ((n_clicks is None) | (n_clicks==0)):\n",
    "        raise dash.exceptions.PreventUpdate\n",
    "\n",
    "    elif uploaded_filename is not None and uploaded_file_content is not None:\n",
    "        \n",
    "        for name, data in zip(uploaded_filename, uploaded_file_content):\n",
    "            image_path=save_file(name, data)\n",
    "            classification_result=Dog_Identification(image_path)\n",
    "        return [html.Div(children=html.Img(src=data, style={'allign': 'left', 'height':\"auto\",'width':\"auto\"})),classification_result, None]\n"
   ]
  },
  {
   "cell_type": "markdown",
   "metadata": {},
   "source": [
    "## App Layout"
   ]
  },
  {
   "cell_type": "code",
   "execution_count": null,
   "metadata": {},
   "outputs": [
    {
     "name": "stdout",
     "output_type": "stream",
     "text": [
      "Dash is running on http://127.0.0.1:8050/\n",
      "\n"
     ]
    },
    {
     "name": "stderr",
     "output_type": "stream",
     "text": [
      "I0305 11:25:34.931489  3752 dash.py:2021] Dash is running on http://127.0.0.1:8050/\n",
      "\n"
     ]
    },
    {
     "name": "stdout",
     "output_type": "stream",
     "text": [
      " * Serving Flask app '__main__' (lazy loading)\n",
      " * Environment: production\n",
      "   WARNING: This is a development server. Do not use it in a production deployment.\n",
      "   Use a production WSGI server instead.\n",
      " * Debug mode: off\n"
     ]
    },
    {
     "name": "stderr",
     "output_type": "stream",
     "text": [
      "I0305 11:25:34.973328  3752 _internal.py:225]  * Running on http://127.0.0.1:8050/ (Press CTRL+C to quit)\n",
      "I0305 11:25:59.785907  3972 _internal.py:225] 127.0.0.1 - - [05/Mar/2023 11:25:59] \"GET / HTTP/1.1\" 200 -\n",
      "I0305 11:25:59.851294 10140 _internal.py:225] 127.0.0.1 - - [05/Mar/2023 11:25:59] \"GET /Dash/assets/css/all.css?m=1614995166.0 HTTP/1.1\" 200 -\n",
      "I0305 11:25:59.880290  8520 _internal.py:225] 127.0.0.1 - - [05/Mar/2023 11:25:59] \"GET /Dash/assets/css/bootstrap.min.css?m=1615738896.0 HTTP/1.1\" 200 -\n",
      "I0305 11:25:59.912278  5688 _internal.py:225] 127.0.0.1 - - [05/Mar/2023 11:25:59] \"GET /Dash/assets/css/bWLwgP.css?m=1614855200.0 HTTP/1.1\" 200 -\n",
      "I0305 11:26:00.430871  3184 _internal.py:225] 127.0.0.1 - - [05/Mar/2023 11:26:00] \"GET /_dash-layout HTTP/1.1\" 200 -\n",
      "I0305 11:26:00.434871  5200 _internal.py:225] 127.0.0.1 - - [05/Mar/2023 11:26:00] \"GET /_dash-dependencies HTTP/1.1\" 200 -\n",
      "I0305 11:26:00.445753  3056 _internal.py:225] 127.0.0.1 - - [05/Mar/2023 11:26:00] \"GET /_favicon.ico?v=2.0.0 HTTP/1.1\" 200 -\n",
      "I0305 11:26:00.484156  6424 _internal.py:225] 127.0.0.1 - - [05/Mar/2023 11:26:00] \"POST /_dash-update-component HTTP/1.1\" 200 -\n",
      "I0305 11:26:00.532574   344 _internal.py:225] 127.0.0.1 - - [05/Mar/2023 11:26:00] \"POST /_dash-update-component HTTP/1.1\" 204 -\n",
      "I0305 11:26:00.554630  2504 _internal.py:225] 127.0.0.1 - - [05/Mar/2023 11:26:00] \"GET /_dash-component-suites/dash/dcc/async-upload.js HTTP/1.1\" 200 -\n",
      "I0305 11:26:06.916428 10484 _internal.py:225] 127.0.0.1 - - [05/Mar/2023 11:26:06] \"POST /_dash-update-component HTTP/1.1\" 204 -\n",
      "I0305 11:26:22.938910  9268 _internal.py:225] 127.0.0.1 - - [05/Mar/2023 11:26:22] \"POST /_dash-update-component HTTP/1.1\" 200 -\n"
     ]
    }
   ],
   "source": [
    "app.layout = html.Div([dcc.Location(id='url'), navbar,content, dcc.Store(id='original-image')])\n",
    "\n",
    "@app.callback([Output('page-content', 'children'), Output('Page-Nav-Title','children')], [Input('url', 'pathname')])\n",
    "def render_page_content(pathname):\n",
    "    return page0,'' \n",
    "\n",
    "if __name__ == '__main__':\n",
    "    app.run_server(debug=False)"
   ]
  },
  {
   "cell_type": "code",
   "execution_count": null,
   "metadata": {},
   "outputs": [],
   "source": []
  }
 ],
 "metadata": {
  "anaconda-cloud": {},
  "kernelspec": {
   "display_name": "Python 3",
   "language": "python",
   "name": "python3"
  },
  "language_info": {
   "codemirror_mode": {
    "name": "ipython",
    "version": 3
   },
   "file_extension": ".py",
   "mimetype": "text/x-python",
   "name": "python",
   "nbconvert_exporter": "python",
   "pygments_lexer": "ipython3",
   "version": "3.6.8"
  }
 },
 "nbformat": 4,
 "nbformat_minor": 1
}
